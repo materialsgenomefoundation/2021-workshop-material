{
 "cells": [
  {
   "cell_type": "markdown",
   "metadata": {},
   "source": [
    "# Custom Models in pycalphad"
   ]
  },
  {
   "cell_type": "markdown",
   "metadata": {},
   "source": [
    "M.E. Trybula, T. Gancarz, W. Gąsior, Density, surface tension and viscosity of liquid binary Al-Zn and ternary Al-Li-Zn alloys, Fluid Phase Equilibria, Volume 421, 2016, Pages 39-48, ISSN 0378-3812, http://dx.doi.org/10.1016/j.fluid.2016.03.013.\n",
    "(http://www.sciencedirect.com/science/article/pii/S0378381216301418)\n",
    "\n",
    "Władysław Gąsior, \"Viscosity modeling of binary alloys: Comparative studies\",\n",
    "        Calphad, Volume 44, 2014, Pages 119-128, ISSN 0364-5916,\n",
    "        http://dx.doi.org/10.1016/j.calphad.2013.10.007.\n",
    "        \n",
    "Chenyang Zhou, Cuiping Guo, Changrong Li, Zhenmin Du, \"Thermodynamic assessment of the phase equilibria and prediction of glass-forming ability of the Al–Cu–Zr system,\" Journal of Non-Crystalline Solids, Volume 461, 2017,\n",
    "Pages 47-60,\n",
    "https://doi.org/10.1016/j.jnoncrysol.2016.09.031.\n",
    "(http://www.sciencedirect.com/science/article/pii/S0022309316304161)"
   ]
  },
  {
   "cell_type": "markdown",
   "metadata": {},
   "source": [
    "## Background\n",
    "\n",
    "We are going to take a CALPHAD-based property model from the literature and use it to predict the viscosity of Al-Cu-Zr liquids.\n",
    "\n",
    "For a binary alloy liquid under small undercooling, Gąsior suggested an entropy model of the form\n",
    "$$\\eta = (\\sum_i x_i \\eta_i ) (1 - 2\\frac{S_{ex}}{R})$$\n",
    "\n",
    "where $\\eta_i$ is the viscosity of the element $i$, $x_i$ is the mole fraction, $S_{ex}$ is the excess entropy, and $R$ is the gas constant."
   ]
  },
  {
   "cell_type": "code",
   "execution_count": null,
   "metadata": {},
   "outputs": [],
   "source": [
    "from pycalphad import Database"
   ]
  },
  {
   "cell_type": "markdown",
   "metadata": {},
   "source": [
    "We can calculate the excess entropy of the liquid using the Al-Cu-Zr thermodynamic database from Zhou et al.\n",
    "\n",
    "We add three new parameters to describe the viscosity (in Pa-s) of the pure elements Al, Cu, and Zr:\n",
    "```\n",
    "   $ Viscosity test parameters\n",
    "   PARAMETER ETA(LIQUID,AL;0) 2.98150E+02  +0.000281*EXP(12300/(8.3145*T));   6.00000E+03   \n",
    "  N REF:0 !\n",
    "   PARAMETER ETA(LIQUID,CU;0) 2.98150E+02  +0.000657*EXP(21500/(8.3145*T));   6.00000E+03   \n",
    "  N REF:0 !\n",
    "  PARAMETER ETA(LIQUID,ZR;0) 2.98150E+02  +4.74E-3 - 4.97E-6*(T-2128) ;   6.00000E+03   \n",
    "    N REF:0 !\n",
    "```\n",
    "\n",
    "Great! However, if we try to load the database now, we will get an error:"
   ]
  },
  {
   "cell_type": "code",
   "execution_count": null,
   "metadata": {},
   "outputs": [],
   "source": [
    "dbf = Database('databases/alcuzr-viscosity.tdb')"
   ]
  },
  {
   "cell_type": "markdown",
   "metadata": {},
   "source": [
    "This is because \"ETA\" parameters are not supported by default in pycalphad, so we need to tell pycalphad's TDB parser that \"ETA\" should be on the list of supported parameter types:"
   ]
  },
  {
   "cell_type": "code",
   "execution_count": null,
   "metadata": {},
   "outputs": [],
   "source": [
    "import pycalphad.io.tdb_keywords\n",
    "pycalphad.io.tdb_keywords.TDB_PARAM_TYPES.append('ETA')"
   ]
  },
  {
   "cell_type": "markdown",
   "metadata": {},
   "source": [
    "Now the database will load:"
   ]
  },
  {
   "cell_type": "code",
   "execution_count": null,
   "metadata": {},
   "outputs": [],
   "source": [
    "dbf = Database('databases/alcuzr-viscosity.tdb')"
   ]
  },
  {
   "cell_type": "markdown",
   "metadata": {},
   "source": [
    "## Writing the Custom Model\n",
    "\n",
    "Now that we have our \"ETA\" parameters in the database, we need to write a `Model` class to tell pycalphad how to compute viscosity. All custom models are subclasses of the pycalphad `Model` class. A rough draft of our custom model is shown below."
   ]
  },
  {
   "cell_type": "code",
   "execution_count": null,
   "metadata": {},
   "outputs": [],
   "source": [
    "# Useful imports for custom models\n",
    "from tinydb import where\n",
    "from pycalphad import Model\n",
    "\n",
    "class ViscosityModel(Model):\n",
    "    def build_phase(self, dbe):\n",
    "        # build_phase is a special function which will be called by pycalphad\n",
    "        # dbe is our Database object\n",
    "        # First build all the default models\n",
    "        super(ViscosityModel, self).build_phase(dbe)\n",
    "        # Now construct our custom viscosity property\n",
    "        self.viscosity = self.build_viscosity(dbe)\n",
    "\n",
    "    def build_viscosity(self, dbe):\n",
    "        raise NotImplementedError('What do I write here?!')"
   ]
  },
  {
   "cell_type": "markdown",
   "metadata": {},
   "source": [
    "Now we need to write the implementation of `build_viscosity`. The function needs to do four things:\n",
    "1. Query the Database for all the \"ETA\" parameters\n",
    "2. Compute their weighted sum\n",
    "3. Compute the excess entropy of the liquid\n",
    "4. Plug all the values into the Gąsior equation and return the result"
   ]
  },
  {
   "cell_type": "code",
   "execution_count": null,
   "metadata": {},
   "outputs": [],
   "source": [
    "from tinydb import where\n",
    "from pycalphad import Model, variables as v\n",
    "\n",
    "class ViscosityModel(Model):\n",
    "    def build_phase(self, dbe):\n",
    "        super(ViscosityModel, self).build_phase(dbe)\n",
    "        self.viscosity = self.build_viscosity(dbe)\n",
    "\n",
    "    def build_viscosity(self, dbe):\n",
    "        if self.phase_name != 'LIQUID':\n",
    "            raise ValueError('Viscosity is only defined for LIQUID phase')\n",
    "        phase = dbe.phases[self.phase_name]\n",
    "        param_search = dbe.search\n",
    "        # STEP 1\n",
    "        eta_param_query = (\n",
    "            (where('phase_name') == phase.name) & \\\n",
    "            (where('parameter_type') == 'ETA') & \\\n",
    "            (where('constituent_array').test(self._array_validity))\n",
    "        )\n",
    "        # STEP 2\n",
    "        eta = self.redlich_kister_sum(phase, param_search, eta_param_query)\n",
    "        # STEP 3\n",
    "        excess_energy = self.GM - self.models['ref'] - self.models['idmix']\n",
    "        #liquid_mod = Model(dbe, self.components, self.phase_name)\n",
    "        ## we only want the excess contributions to the entropy\n",
    "        #del liquid_mod.models['ref']\n",
    "        #del liquid_mod.models['idmix']\n",
    "        excess_entropy = -excess_energy.diff(v.T)\n",
    "        ks = 2\n",
    "        # STEP 4\n",
    "        result = eta * (1 - ks * excess_entropy / v.R)\n",
    "        self.eta = eta\n",
    "        return result"
   ]
  },
  {
   "cell_type": "markdown",
   "metadata": {},
   "source": [
    "## Putting it all together\n",
    "\n",
    "Now we can create an instance of `ViscosityModel` for the liquid phase using the `Database` object we created earlier."
   ]
  },
  {
   "cell_type": "code",
   "execution_count": null,
   "metadata": {},
   "outputs": [],
   "source": [
    "mod = ViscosityModel(dbf, ['CU', 'ZR'], 'LIQUID')"
   ]
  },
  {
   "cell_type": "markdown",
   "metadata": {},
   "source": [
    "Finally we plot the result."
   ]
  },
  {
   "cell_type": "code",
   "execution_count": null,
   "metadata": {},
   "outputs": [],
   "source": [
    "%matplotlib inline\n",
    "import matplotlib.pyplot as plt\n",
    "import numpy as np\n",
    "from pycalphad import calculate\n",
    "\n",
    "mod = ViscosityModel(dbf, ['CU', 'ZR'], 'LIQUID')\n",
    "\n",
    "temp = 2100\n",
    "res = calculate(dbf, ['CU', 'ZR'], 'LIQUID', P=101325, T=temp,\n",
    "                model=mod, output='viscosity') # NOTICE: model=mod to tell pycalphad about our model\n",
    "\n",
    "fig = plt.figure(figsize=(6,6))\n",
    "ax = fig.gca()\n",
    "ax.scatter(res.X.sel(component='ZR'), 1000 * res.viscosity.values)\n",
    "ax.set_xlabel('X(ZR)')\n",
    "ax.set_ylabel('Viscosity (mPa-s)')\n",
    "ax.set_xlim((0,1))\n",
    "ax.set_title('Viscosity at {}K'.format(temp));"
   ]
  },
  {
   "cell_type": "markdown",
   "metadata": {},
   "source": [
    "We repeat the calculation for Al-Cu."
   ]
  },
  {
   "cell_type": "code",
   "execution_count": null,
   "metadata": {},
   "outputs": [],
   "source": [
    "%matplotlib inline\n",
    "import matplotlib.pyplot as plt\n",
    "import numpy as np\n",
    "from pycalphad import calculate\n",
    "\n",
    "mod = ViscosityModel(dbf, ['CU', 'AL'], 'LIQUID')\n",
    "\n",
    "\n",
    "temp = 1300\n",
    "res = calculate(dbf, ['CU', 'AL'], 'LIQUID', P=101325, T=temp,\n",
    "                model=mod, output='viscosity')\n",
    "\n",
    "fig = plt.figure(figsize=(6,6))\n",
    "ax = fig.gca()\n",
    "ax.scatter(res.X.sel(component='CU'), 1000 * res.viscosity.values)\n",
    "ax.set_xlabel('X(CU)')\n",
    "ax.set_ylabel('Viscosity (mPa-s)')\n",
    "ax.set_xlim((0,1))\n",
    "ax.set_title('Viscosity at {}K'.format(temp));"
   ]
  }
 ],
 "metadata": {
  "kernelspec": {
   "display_name": "Python 3",
   "language": "python",
   "name": "python3"
  },
  "language_info": {
   "codemirror_mode": {
    "name": "ipython",
    "version": 3
   },
   "file_extension": ".py",
   "mimetype": "text/x-python",
   "name": "python",
   "nbconvert_exporter": "python",
   "pygments_lexer": "ipython3",
   "version": "3.9.13"
  }
 },
 "nbformat": 4,
 "nbformat_minor": 4
}
